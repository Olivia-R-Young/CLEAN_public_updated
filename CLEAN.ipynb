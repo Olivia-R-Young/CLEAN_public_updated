{
  "nbformat": 4,
  "nbformat_minor": 0,
  "metadata": {
    "colab": {
      "name": "CLEAN.ipynb",
      "provenance": [],
      "collapsed_sections": []
    },
    "kernelspec": {
      "name": "python3",
      "display_name": "Python 3"
    },
    "language_info": {
      "name": "python"
    }
  },
  "cells": [
    {
      "cell_type": "code",
      "execution_count": null,
      "metadata": {
        "colab": {
          "base_uri": "https://localhost:8080/"
        },
        "id": "8hRaPGeyne9q",
        "outputId": "f6dc5855-8677-4447-ccee-82c6591495d9"
      },
      "outputs": [
        {
          "output_type": "stream",
          "name": "stdout",
          "text": [
            "Looking in indexes: https://pypi.org/simple, https://us-python.pkg.dev/colab-wheels/public/simple/\n",
            "Requirement already satisfied: pypulse in /usr/local/lib/python3.7/dist-packages (0.1.1)\n",
            "Requirement already satisfied: scipy in /usr/local/lib/python3.7/dist-packages (from pypulse) (1.4.1)\n",
            "Requirement already satisfied: numpy in /usr/local/lib/python3.7/dist-packages (from pypulse) (1.21.6)\n",
            "Requirement already satisfied: matplotlib in /usr/local/lib/python3.7/dist-packages (from pypulse) (3.2.2)\n",
            "Requirement already satisfied: astropy in /usr/local/lib/python3.7/dist-packages (from pypulse) (4.3.1)\n",
            "Requirement already satisfied: importlib-metadata in /usr/local/lib/python3.7/dist-packages (from astropy->pypulse) (4.11.4)\n",
            "Requirement already satisfied: pyerfa>=1.7.3 in /usr/local/lib/python3.7/dist-packages (from astropy->pypulse) (2.0.0.1)\n",
            "Requirement already satisfied: zipp>=0.5 in /usr/local/lib/python3.7/dist-packages (from importlib-metadata->astropy->pypulse) (3.8.0)\n",
            "Requirement already satisfied: typing-extensions>=3.6.4 in /usr/local/lib/python3.7/dist-packages (from importlib-metadata->astropy->pypulse) (4.1.1)\n",
            "Requirement already satisfied: kiwisolver>=1.0.1 in /usr/local/lib/python3.7/dist-packages (from matplotlib->pypulse) (1.4.3)\n",
            "Requirement already satisfied: cycler>=0.10 in /usr/local/lib/python3.7/dist-packages (from matplotlib->pypulse) (0.11.0)\n",
            "Requirement already satisfied: python-dateutil>=2.1 in /usr/local/lib/python3.7/dist-packages (from matplotlib->pypulse) (2.8.2)\n",
            "Requirement already satisfied: pyparsing!=2.0.4,!=2.1.2,!=2.1.6,>=2.0.1 in /usr/local/lib/python3.7/dist-packages (from matplotlib->pypulse) (3.0.9)\n",
            "Requirement already satisfied: six>=1.5 in /usr/local/lib/python3.7/dist-packages (from python-dateutil>=2.1->matplotlib->pypulse) (1.15.0)\n"
          ]
        }
      ],
      "source": [
        "!pip install pypulse\n",
        "import matplotlib.pyplot as plt\n",
        "from pypulse import SinglePulse\n",
        "from scipy import signal\n",
        "import numpy as np\n",
        "import time as time_it\n",
        "from scipy.stats import loguniform\n",
        "from numpy import loadtxt\n",
        "from scipy.signal import savgol_filter\n",
        "import cProfile\n",
        "from google.colab import files\n",
        "\n"
      ]
    },
    {
      "cell_type": "markdown",
      "source": [
        "**The Pulse Broadening Function**: The Pulse Broadening function for the ISM when modeled as a thin sheet is given by: \n",
        "\n",
        "\\begin{equation}\n",
        "    g(t) = \\tau_d^{-1} \\exp (-\\frac{t}{\\tau_d}) U(t) \n",
        "\\end{equation}\n",
        "\n",
        "While there are other ways to model the ISM, such as assuming thick or uniform medium, the thin medium approximation was used for this work. Of particular importance in building the PBF is the use of the *scipy.signal.exponential* package in Python.\n",
        "\n",
        "Using this function, we use the code below to make a one sided expoentail function. It is to be noted that while this function is not sensisitive to the bin size of the obervation, but rather the number of bins. Thus tau is in terms of bin size. In this case, the output, called the window, is given by:\n",
        "\n",
        "\\begin{equation}\n",
        "    g(t) =  \\exp (-\\frac{n - center}{\\tau})\n",
        "\\end{equation}\n",
        "\n",
        "Thus, the code below uses our input tau, with tau in the same arbitrary units as the observation. "
      ],
      "metadata": {
        "id": "wfR2g_YstWIi"
      }
    },
    {
      "cell_type": "code",
      "source": [
        "'''\n",
        "Pulse Broadening Function for thin sheet ISM\n",
        "'''\n",
        "\n",
        "def pfb(tau, time):\n",
        "    return (1/tau)*signal.exponential(len(time), center=0, tau=tau, sym=False) #*(1/tau)\n",
        "\n",
        "\n",
        "\n",
        "\n",
        "## uncomment To plot PBF for Tau and observation length of your choosing\n",
        "\"\"\"\n",
        "time = np.arange(0, 100.0, 1.0)\n",
        "tau = 20.0\n",
        "g_t_1 = pfb(tau, time)\n",
        "\n",
        "plt.plot(time, g_t_1, color=\"#003D30\")\n",
        "plt.title(\"Pulse Broadening Function for Thin Screen\")\n",
        "plt.ylabel(\"Amplitude\")\n",
        "plt.xlabel(\"Time\")\n",
        "plt.savefig(\"pbf_example.pdf\", bbox_inches='tight')\n",
        "files.download(\"pbf_example.pdf\")\n",
        "\n",
        "plt.show()\n",
        "\n",
        "\"\"\""
      ],
      "metadata": {
        "id": "ul8KmLsVoOVx",
        "colab": {
          "base_uri": "https://localhost:8080/",
          "height": 295
        },
        "outputId": "5e34d472-9357-4ecd-c399-2be59d6a34b5"
      },
      "execution_count": null,
      "outputs": [
        {
          "output_type": "display_data",
          "data": {
            "text/plain": [
              "<IPython.core.display.Javascript object>"
            ],
            "application/javascript": [
              "\n",
              "    async function download(id, filename, size) {\n",
              "      if (!google.colab.kernel.accessAllowed) {\n",
              "        return;\n",
              "      }\n",
              "      const div = document.createElement('div');\n",
              "      const label = document.createElement('label');\n",
              "      label.textContent = `Downloading \"${filename}\": `;\n",
              "      div.appendChild(label);\n",
              "      const progress = document.createElement('progress');\n",
              "      progress.max = size;\n",
              "      div.appendChild(progress);\n",
              "      document.body.appendChild(div);\n",
              "\n",
              "      const buffers = [];\n",
              "      let downloaded = 0;\n",
              "\n",
              "      const channel = await google.colab.kernel.comms.open(id);\n",
              "      // Send a message to notify the kernel that we're ready.\n",
              "      channel.send({})\n",
              "\n",
              "      for await (const message of channel.messages) {\n",
              "        // Send a message to notify the kernel that we're ready.\n",
              "        channel.send({})\n",
              "        if (message.buffers) {\n",
              "          for (const buffer of message.buffers) {\n",
              "            buffers.push(buffer);\n",
              "            downloaded += buffer.byteLength;\n",
              "            progress.value = downloaded;\n",
              "          }\n",
              "        }\n",
              "      }\n",
              "      const blob = new Blob(buffers, {type: 'application/binary'});\n",
              "      const a = document.createElement('a');\n",
              "      a.href = window.URL.createObjectURL(blob);\n",
              "      a.download = filename;\n",
              "      div.appendChild(a);\n",
              "      a.click();\n",
              "      div.remove();\n",
              "    }\n",
              "  "
            ]
          },
          "metadata": {}
        },
        {
          "output_type": "display_data",
          "data": {
            "text/plain": [
              "<IPython.core.display.Javascript object>"
            ],
            "application/javascript": [
              "download(\"download_c0b8773d-24e2-4e4b-8682-808ee7907fdd\", \"pbf_example.pdf\", 14676)"
            ]
          },
          "metadata": {}
        },
        {
          "output_type": "display_data",
          "data": {
            "text/plain": [
              "<Figure size 432x288 with 1 Axes>"
            ],
            "image/png": "[encoded data removed]"
          },
          "metadata": {
            "needs_background": "light"
          }
        }
      ]
    },
    {
      "cell_type": "markdown",
      "source": [
        "**The Instrumental Response Function:** Moving through the ISM is not the only thing that changes the pulses of pulsars, the instruments we observe them with contribute to obscuring the intrinsic pulse as well. We quantify this chnage due to our instruments using the instrument response function, which itself is composed of different functions describing various instrumental effects on the observed pulse. However, the main change to the pulse due to the instrumental effects is in the determination of the resolution of the pulse, and therefore our search for the pulse broadening value tau will be limited by this function. If the amount of broadening due to the ISM is smaller than one bin size in the instrumental response function, we will only be able to determine an upper limit for tau, rather than finding the correct intrinsic value. \n",
        "\n",
        "While we will further explain the individual contribution function in the broader instrument response function, for the sake of simplicity, the instrument response function can be approximated as a delta function with a width of one bin step. This is how we approximate the contribution of this function within this work. \n",
        "\n",
        "However, this component can be expanded upon in further work, with unique instrument response functions developed for each major radio observatory and then applied to real observational data taken with these telescopes. \n",
        "\n",
        "The effective pulse phase can be determined by convolving functions that describe contributing instrumental effects to form the instrument resolution function. The main effects to be considered include the dispersion smearing ($r_{dm}$), the profile binning ($r_{pb}$), the back-end time averaging ($r_{av}$), and any additional time averaging occurring post-detection ($r_{pd}$). We determine that a delta function is a good approximation for the convolutionaly combined function, as each of these functions can be treated as roughly rectangular, which when combined will form a roughly trapezoidal function very similar to a delta function with a width of one bin step.\n",
        "\n",
        "\n",
        "\\begin{equation}\n",
        "   r(t) = r_{dm}(t) \\otimes r_{pb}(t) \\otimes r_{av}(t) \\otimes r_{pd}(t)\n",
        "\\end{equation}\n",
        "\n",
        "The location of the delta function peak is at the location of the max of the input data, which in this case a Gaussian pulse. This is done to simplify the convolution process."
      ],
      "metadata": {
        "id": "7qBqAZP6V6FT"
      }
    },
    {
      "cell_type": "code",
      "source": [
        "'''\n",
        "Instrument response function\n",
        "'''\n",
        "\n",
        "def inst_resp(new_pulse_profile):\n",
        "    r_t_before = np.zeros(len(new_pulse_profile))\n",
        "    r_t_before[np.argmax(new_pulse_profile)] = 1.0\n",
        "    return r_t_before\n",
        "\n",
        "\"\"\"\n",
        "## uncomment To plot Instrument Response Function for an observation length of your choosing, random gaussian is used for this observation\n",
        "time = np.arange(0, 100.0, 1.0)\n",
        "std = 1.0\n",
        "\n",
        "pulse = signal.gaussian(len(time), std=std)\n",
        "inst_resp = inst_resp(pulse)\n",
        "\n",
        "plt.plot(time, inst_resp, color=\"#003D30\")\n",
        "plt.title(\"Instrument Response Function\")\n",
        "plt.ylabel(\"Amplitude\")\n",
        "plt.xlabel(\"Time\")\n",
        "plt.savefig(\"inst_resp.pdf\", bbox_inches='tight')\n",
        "files.download(\"inst_resp.pdf\")\n",
        "plt.show()\n",
        "\n",
        "\"\"\"\n",
        "\n"
      ],
      "metadata": {
        "id": "CkWSlWyIoQKl",
        "colab": {
          "base_uri": "https://localhost:8080/",
          "height": 87
        },
        "outputId": "b208c2cd-e22c-4a8d-cc4b-86d1f1795111"
      },
      "execution_count": null,
      "outputs": [
        {
          "output_type": "execute_result",
          "data": {
            "text/plain": [
              "'\\n## uncomment To plot Instrument Response Function for an observation length of your choosing, random gaussian is used for this observation\\ntime = np.arange(0, 100.0, 1.0)\\nstd = 1.0\\n\\npulse = signal.gaussian(len(time), std=std)\\ninst_resp = inst_resp(pulse)\\n\\nplt.plot(time, inst_resp, color=\"#003D30\")\\nplt.title(\"Instrument Response Function\")\\nplt.ylabel(\"Amplitude\")\\nplt.xlabel(\"Time\")\\nplt.savefig(\"inst_resp.pdf\", bbox_inches=\\'tight\\')\\nfiles.download(\"inst_resp.pdf\")\\nplt.show()\\n\\n'"
            ],
            "application/vnd.google.colaboratory.intrinsic+json": {
              "type": "string"
            }
          },
          "metadata": {},
          "execution_count": 3
        }
      ]
    },
    {
      "cell_type": "code",
      "source": [
        "'''\n",
        "Characteristics for each simulated pulsar, height is not included as pulse will be normalized\n",
        "'''\n",
        "\n",
        "def characteristics(): \n",
        "    length_of_obs = 100 \n",
        "    n_bins = 100\n",
        "\n",
        "    FWHM = 1.0  \n",
        "    std = round((FWHM)/2.35, 5)\n",
        "\n",
        "    tau =  20.0 \n",
        "    SN = 100\n",
        "\n",
        "    return length_of_obs, FWHM, std, tau, SN, n_bins"
      ],
      "metadata": {
        "id": "ghvOucByWwoz"
      },
      "execution_count": null,
      "outputs": []
    },
    {
      "cell_type": "markdown",
      "source": [
        "**The Intrinsic Pulse:** In our simulated data, we must build the intrinsic pulse. As discussed in Chapter 3 of this thesis, we know that assuming a Gaussian pulse shape for intrinsic emission is a decision based on only the most simplistic models of pulsar emission, and that real pulsar pulse profiles rarely fit a perfect Gaussian mold. However, for this work, we use exclusively Gaussian intrinsic pulses, as is also done in Bhat. et. al. 2003. It is to be noted here that one of the three main figures of merit in Bhat. et. al. 2003. is based on a measurement of the skewness of each recovered pulse for each tau. Thus, in order to employ this figure of merit, a simple, single peak Gaussian pulse model must be assumed. Future work could done in this vein to develop a figure of merit to replace the skewness measure that does not require the intrinsic pulse to be a symmetric Gaussian. However, in this analysis we have decided to use only single peak Gaussian intrinsic pulses in order to replicate the results given within  Bhat. et. al. 2003.\n",
        "\n",
        "We determine the length of our observation, the number of bins, and the standard deviation of our desired Gaussian, and use *scipy.signal.gaussian* to create our intrinsic Gaussian pulse. It is to be noted here that we do not determine the height of the pulse, as the data will be normalized. \n",
        "\n",
        "In pulsar astronomy, we can measure the full width at half maximum of our observed pulses. Thus, we can use the known ranges of FWHMs to generate reasonable standard deviations of the intrinsic Gaussian pulses via the standard relationship between FWHM and STD:\n",
        "\n",
        "\\begin{equation}\n",
        "   FWHM = 2.355\\sigma\n",
        "\\end{equation}\n",
        "\n",
        "where $\\sigma$ is the standard deviation of our intrinsic pulse. \n"
      ],
      "metadata": {
        "id": "wSG7S9I0p6uA"
      }
    },
    {
      "cell_type": "code",
      "source": [
        "def intrinsic_pulse(length_of_obs, n_bins, std, time):\n",
        "    intrinsic_pulse = signal.gaussian(len(time), std=std/(length_of_obs/n_bins))\n",
        "    return intrinsic_pulse\n",
        "\n",
        "\n",
        "\n",
        "## uncomment To plot Intrinsic pulse. Pulse parameters are determined via the \"characteristics\" function.\n",
        "\"\"\"\n",
        "length_of_obs, FWHM, std, tau, SN, n_bins = characteristics()\n",
        "time = np.arange(0, length_of_obs, length_of_obs/n_bins)\n",
        "\n",
        "intrinsic_pulse = intrinsic_pulse(length_of_obs, n_bins, std, time)\n",
        "\n",
        "plt.plot(time, intrinsic_pulse, color=\"#003D30\")\n",
        "plt.title(\"Intrinsic Pulse\")\n",
        "plt.ylabel(\"Amplitude\")\n",
        "plt.xlabel(\"Time\")\n",
        "plt.savefig(\"intrinsic_pulse.pdf\", bbox_inches='tight')\n",
        "files.download(\"intrinsic_pulse.pdf\")\n",
        "plt.show()\n",
        "\"\"\"\n",
        "  \n"
      ],
      "metadata": {
        "colab": {
          "base_uri": "https://localhost:8080/",
          "height": 70
        },
        "id": "VJdljEXGYZyM",
        "outputId": "b884ae76-aaf8-42af-8ad6-8a35ce44f5c4"
      },
      "execution_count": null,
      "outputs": [
        {
          "output_type": "execute_result",
          "data": {
            "text/plain": [
              "'\\nlength_of_obs, FWHM, std, tau, SN, n_bins = characteristics()\\ntime = np.arange(0, length_of_obs, length_of_obs/n_bins)\\n\\nintrinsic_pulse = intrinsic_pulse(length_of_obs, n_bins, std, time)\\n\\nplt.plot(time, intrinsic_pulse, color=\"#003D30\")\\nplt.title(\"Intrinsic Pulse\")\\nplt.ylabel(\"Amplitude\")\\nplt.xlabel(\"Time\")\\nplt.savefig(\"intrinsic_pulse.pdf\", bbox_inches=\\'tight\\')\\nfiles.download(\"intrinsic_pulse.pdf\")\\nplt.show()\\n'"
            ],
            "application/vnd.google.colaboratory.intrinsic+json": {
              "type": "string"
            }
          },
          "metadata": {},
          "execution_count": 5
        }
      ]
    },
    {
      "cell_type": "markdown",
      "source": [
        "**The Observed Pulse**: The Observed Pulse is created by convolving the intrinsic pulse, the pulse broadening function, and the instrumental response function together, and then adding noise to the resulting pulse to mimic real observational data. We use *np.convolve* to convolve our functions using discrete convolution. \n",
        "\n",
        "The discrete convolution operation used in *np.convolve* is defined as:\n",
        "\n",
        "\n",
        "\\begin{equation}\n",
        "   (a * v)[n] = \\Sigma_{m = - \\infty}^{\\infty} a[m]v[n-m]\n",
        "\\end{equation}\n",
        "\n",
        "Additionally, there are three modes that can be used with this function: ‘full’, ‘valid’, and ‘same’. Both input arrays must be the same length in all modes. We use modes 'same' and 'full' in this work. \n",
        "\n",
        "The default value is 'full', which returns convolution at each point of overlap, which essentially doubles the length of the output array when compared to the input array. This mode is used when one or both of the peaks of the input arrays are centered at 0 instead of in the middle of their respective arrays, and then the output array is cut to be the same length as the input arrays. As the signals do not overlap fully at the end-points, boundary effects can be seen. \n",
        "\n",
        "\n",
        "When the mode value is set to 'same', an array of the same length as the input arrays is returned. This can be used if the peaks of both arrays are centered in the middle of their respective arrays. The mode is still susceptible to boundary effects. \n",
        "\n",
        "We first convolve the intrinsic pulse array and the pulse broadening function array together, and then convolve the result of this first convolution with out instrument response function to give us out observed array should there be no noise in the observation. Then using the *SinglePulse* function in the library *PyPulse*, we add in random Gaussian noise to our observed pulse by specifying a signal to noise level we wish our final result to have. We then subtract of the noise baseline determined using the off pulse region, and find the root mean squared of the data by using the *SinglePulse.getOffpulseNoise()* function in PyPulse. We then finally have our simulated observed pulsar profile.\n",
        "\n",
        "\n",
        " \n"
      ],
      "metadata": {
        "id": "bMJJlR-n9BmE"
      }
    },
    {
      "cell_type": "code",
      "source": [
        "'''\n",
        "Creating the Observed Pulse\n",
        "'''\n",
        "\n",
        "def observed_pulse(tau, std, length_of_obs, n_bins):\n",
        "\n",
        "    ## Create our time array and intrinsic pulse\n",
        "    time = np.arange(0, length_of_obs, length_of_obs/n_bins)\n",
        "    g_t = intrinsic_pulse(length_of_obs, n_bins, std, time)\n",
        "\n",
        "    # Create our pulse broadening function\n",
        "    pbf_1 = pfb(tau,time)\n",
        "\n",
        "    #First convolution. Convolve the intrinsic pulse and the pulse broadening function together//\n",
        "    #Since the pbf in centered at 0, the np.convolve \"same\" tag can not be used, thus we must cut the //\n",
        "    #off the second half of the convolved pulse, as it is just the further tail of the convolved pulse //\n",
        "    #and doesn't include the pulse peak.\n",
        "\n",
        "    new_pulse_profile = np.convolve(g_t, pbf_1)\n",
        "    new_pulse_profile = new_pulse_profile[0:int(len(time))]\n",
        "     \n",
        "    #Create Instrument response function \n",
        "    r_t =  inst_resp(new_pulse_profile)\n",
        "\n",
        "    #Second convolution. Convolve the first convolution of the intrinsic pulse and //\n",
        "    #the pulse broadening function together with the instrument response function. //\n",
        "    #this is the observed pulse if there is no noise.\n",
        "\n",
        "    before_noise_obs_pulse = np.convolve(new_pulse_profile, r_t, 'same')\n",
        "\n",
        "    #Using PyPulse, we add noise to our observed pulse.\n",
        "    sp_noise = SinglePulse(before_noise_obs_pulse, windowsize=int(len(before_noise_obs_pulse) / 8))\n",
        "    with_noise_obs_pulse = sp_noise.addNoise(SN, save=True)\n",
        "\n",
        "    #Using PyPulse, we subtract off our baseline\n",
        "    sp_off_pulse = SinglePulse(with_noise_obs_pulse, windowsize=int(len(with_noise_obs_pulse) / 8))\n",
        "    off_pulse = sp_off_pulse.calcOffpulseWindow()\n",
        "    sp_off_pulse.remove_baseline()\n",
        "\n",
        "    ## Normalize observation\n",
        "    obs_pulse = with_noise_obs_pulse/np.max(with_noise_obs_pulse)\n",
        "\n",
        "    ### Calculate rms of baseline subtracted, normalized observation\n",
        "    sp_rms = SinglePulse(obs_pulse, windowsize=int(len(obs_pulse) / 8))\n",
        "    rms = sp_rms.getOffpulseNoise()\n",
        "    return obs_pulse, time, rms, off_pulse, intrinsic_pulse \n",
        "\n",
        "\n",
        "## uncomment to plot the observed pulse. Pulse parameters are determined via the \"characteristics\" function \n",
        "\n",
        "\"\"\"\n",
        "length_of_obs, FWHM, std, tau, SN, n_bins = characteristics()\n",
        "\n",
        "data_file, time, rms, off_pulse, amp  = observed_pulse(tau, std, length_of_obs, n_bins)\n",
        "plt.plot(time, data_file,  color = \"#003D30\")\n",
        "plt.title(\"Observed Pulse\")\n",
        "plt.ylabel(\"Amplitude\")\n",
        "plt.xlabel(\"Time\")\n",
        "plt.savefig(\"observed_pulse.pdf\", bbox_inches='tight')\n",
        "files.download(\"observed_pulse.pdf\")\n",
        "plt.show()\n",
        "\n",
        "\"\"\"\n"
      ],
      "metadata": {
        "id": "cX0It_ROou2U",
        "colab": {
          "base_uri": "https://localhost:8080/",
          "height": 573
        },
        "outputId": "b80a0d1b-672b-4944-8d02-11fb4423d847"
      },
      "execution_count": null,
      "outputs": [
        {
          "output_type": "display_data",
          "data": {
            "text/plain": [
              "<IPython.core.display.Javascript object>"
            ],
            "application/javascript": [
              "\n",
              "    async function download(id, filename, size) {\n",
              "      if (!google.colab.kernel.accessAllowed) {\n",
              "        return;\n",
              "      }\n",
              "      const div = document.createElement('div');\n",
              "      const label = document.createElement('label');\n",
              "      label.textContent = `Downloading \"${filename}\": `;\n",
              "      div.appendChild(label);\n",
              "      const progress = document.createElement('progress');\n",
              "      progress.max = size;\n",
              "      div.appendChild(progress);\n",
              "      document.body.appendChild(div);\n",
              "\n",
              "      const buffers = [];\n",
              "      let downloaded = 0;\n",
              "\n",
              "      const channel = await google.colab.kernel.comms.open(id);\n",
              "      // Send a message to notify the kernel that we're ready.\n",
              "      channel.send({})\n",
              "\n",
              "      for await (const message of channel.messages) {\n",
              "        // Send a message to notify the kernel that we're ready.\n",
              "        channel.send({})\n",
              "        if (message.buffers) {\n",
              "          for (const buffer of message.buffers) {\n",
              "            buffers.push(buffer);\n",
              "            downloaded += buffer.byteLength;\n",
              "            progress.value = downloaded;\n",
              "          }\n",
              "        }\n",
              "      }\n",
              "      const blob = new Blob(buffers, {type: 'application/binary'});\n",
              "      const a = document.createElement('a');\n",
              "      a.href = window.URL.createObjectURL(blob);\n",
              "      a.download = filename;\n",
              "      div.appendChild(a);\n",
              "      a.click();\n",
              "      div.remove();\n",
              "    }\n",
              "  "
            ]
          },
          "metadata": {}
        },
        {
          "output_type": "display_data",
          "data": {
            "text/plain": [
              "<IPython.core.display.Javascript object>"
            ],
            "application/javascript": [
              "download(\"download_a41df6cd-550f-42fe-a726-b34a7d0ed83f\", \"observed_pulse.pdf\", 11417)"
            ]
          },
          "metadata": {}
        },
        {
          "output_type": "display_data",
          "data": {
            "text/plain": [
              "<Figure size 432x288 with 1 Axes>"
            ],
            "image/png": "[encoded data removed]"
          },
          "metadata": {
            "needs_background": "light"
          }
        },
        {
          "output_type": "display_data",
          "data": {
            "text/plain": [
              "<IPython.core.display.Javascript object>"
            ],
            "application/javascript": [
              "\n",
              "    async function download(id, filename, size) {\n",
              "      if (!google.colab.kernel.accessAllowed) {\n",
              "        return;\n",
              "      }\n",
              "      const div = document.createElement('div');\n",
              "      const label = document.createElement('label');\n",
              "      label.textContent = `Downloading \"${filename}\": `;\n",
              "      div.appendChild(label);\n",
              "      const progress = document.createElement('progress');\n",
              "      progress.max = size;\n",
              "      div.appendChild(progress);\n",
              "      document.body.appendChild(div);\n",
              "\n",
              "      const buffers = [];\n",
              "      let downloaded = 0;\n",
              "\n",
              "      const channel = await google.colab.kernel.comms.open(id);\n",
              "      // Send a message to notify the kernel that we're ready.\n",
              "      channel.send({})\n",
              "\n",
              "      for await (const message of channel.messages) {\n",
              "        // Send a message to notify the kernel that we're ready.\n",
              "        channel.send({})\n",
              "        if (message.buffers) {\n",
              "          for (const buffer of message.buffers) {\n",
              "            buffers.push(buffer);\n",
              "            downloaded += buffer.byteLength;\n",
              "            progress.value = downloaded;\n",
              "          }\n",
              "        }\n",
              "      }\n",
              "      const blob = new Blob(buffers, {type: 'application/binary'});\n",
              "      const a = document.createElement('a');\n",
              "      a.href = window.URL.createObjectURL(blob);\n",
              "      a.download = filename;\n",
              "      div.appendChild(a);\n",
              "      a.click();\n",
              "      div.remove();\n",
              "    }\n",
              "  "
            ]
          },
          "metadata": {}
        },
        {
          "output_type": "display_data",
          "data": {
            "text/plain": [
              "<IPython.core.display.Javascript object>"
            ],
            "application/javascript": [
              "download(\"download_6d742a12-da08-4ebd-b12b-831fd464149d\", \"number_of_bins_not_effect_tau.pdf\", 24605)"
            ]
          },
          "metadata": {}
        },
        {
          "output_type": "display_data",
          "data": {
            "text/plain": [
              "<Figure size 432x288 with 1 Axes>"
            ],
            "image/png": "[encoded data removed]"
          },
          "metadata": {
            "needs_background": "light"
          }
        }
      ]
    },
    {
      "cell_type": "markdown",
      "source": [
        "**Finding CLEAN Components**: In this method of CLEAN Deconvolution requires iterative subtraction of Clean Components (CCs) off of the main pulse. In order to create the CCs, we convolve a delta function with amplitude of the pulse multiplied by a gain value, in this case being 5 percent, at the location of the peak of the pulse profile, with the instrumental response function, and the pulse broadening function with a test tau. \n",
        "\n",
        "With each iteration, the pulse profile resulting from the last iteration becomes the pulse profile for the next iteration. Thus the change in the profile at each iteration is described as such: \n",
        "\n",
        "\\begin{equation}\n",
        "   \\Delta y(t_i) = y(t_i) - \\{y_c(t) \\otimes [g(t) \\otimes r(t)]\\}_{i = t_i}, i = 1,..., N\n",
        "\\end{equation}\n",
        "\n",
        "with $y(t_i)$ as the input pulse profile, $y_c(t)$ is the delta function with height of five percent of input pulse profile, $g(t)$ is the pulse broadening function, and $r(t)$ is the instrumental response function. This process is continues until either the max of the input pulse profile is below the root mean squared of the noise in the profile or the number of iterations reaches the number of bins in the profile. The location and height of these CLEAN components are then saved in order to rebuild to intrinsic pulse. "
      ],
      "metadata": {
        "id": "SfFRjltIrepZ"
      }
    },
    {
      "cell_type": "code",
      "source": [
        "\n",
        "'''\n",
        "Convolutions called in the loop\n",
        "'''\n",
        "\n",
        "\n",
        "def looped_convs(pulse_profile, tau_1, index_pulse_profile):\n",
        "\n",
        "    # call function to create instrument response function\n",
        "    r_t = inst_resp(pulse_profile)\n",
        "\n",
        "    # Create delta function, with height equal to and location at the max of the data profile. Then multiply //\n",
        "    # by chosen gain. In this case 0.05. \n",
        "    y_t = np.zeros(len(pulse_profile))\n",
        "    y_t[index_pulse_profile] = pulse_profile[index_pulse_profile]\n",
        "\n",
        "    gain = 0.05\n",
        "    y_t = gain * y_t\n",
        "\n",
        "    #convolve gain delta function and instrument response function\n",
        "    conv_one = np.convolve(y_t, r_t)\n",
        " \n",
        "    #Create Pulse Broadening Function\n",
        "    g_t_1 = pfb(tau_1, conv_one)\n",
        "    #g_t_1 = g_t_1/max(g_t_1)\n",
        "\n",
        "    #Second Convolution\n",
        "    conv_two =  np.convolve(conv_one, g_t_1)\n",
        " \n",
        "    #Cut window to correct size, while maintaining correct index of peak\n",
        "    peak = np.argmax(conv_two)\n",
        "    conv_two = conv_two[peak - index_pulse_profile: len(time) + index_pulse_profile ]\n",
        "\n",
        "    return conv_two, y_t, g_t_1\n",
        "\n",
        "\n",
        "## uncomment to plot the one CLEAN component. Pulse parameters are determined via the \"characteristics\" function \n",
        "\"\"\"\n",
        "\n",
        "length_of_obs, FWHM, std, tau, SN, n_bins = characteristics()\n",
        "data_file, time, rms, off_pulse, amp  = observed_pulse(tau, std, length_of_obs, n_bins)\n",
        "pulse_profile = data_file\n",
        "index_pulse_profile = np.argmax(pulse_profile)\n",
        "conv_two, y_t, g_t_1 = looped_convs(pulse_profile, tau, index_pulse_profile)\n",
        "\n",
        "\n",
        "plt.plot(time, conv_two, color=\"#003D30\")\n",
        "plt.title(\"CLEAN Component for Tau = 1.0\")\n",
        "plt.ylabel(\"Amplitude\")\n",
        "plt.xlabel(\"Time\")\n",
        "plt.savefig(\"CC_tau_1.pdf\", bbox_inches='tight')\n",
        "files.download(\"CC_tau_1.pdf\")\n",
        "plt.show()\n",
        "\"\"\""
      ],
      "metadata": {
        "id": "cbXYlydZovuX",
        "colab": {
          "base_uri": "https://localhost:8080/",
          "height": 573
        },
        "outputId": "0fe99884-2755-4bea-bd18-0fadf8085cfe"
      },
      "execution_count": null,
      "outputs": [
        {
          "output_type": "display_data",
          "data": {
            "text/plain": [
              "<IPython.core.display.Javascript object>"
            ],
            "application/javascript": [
              "\n",
              "    async function download(id, filename, size) {\n",
              "      if (!google.colab.kernel.accessAllowed) {\n",
              "        return;\n",
              "      }\n",
              "      const div = document.createElement('div');\n",
              "      const label = document.createElement('label');\n",
              "      label.textContent = `Downloading \"${filename}\": `;\n",
              "      div.appendChild(label);\n",
              "      const progress = document.createElement('progress');\n",
              "      progress.max = size;\n",
              "      div.appendChild(progress);\n",
              "      document.body.appendChild(div);\n",
              "\n",
              "      const buffers = [];\n",
              "      let downloaded = 0;\n",
              "\n",
              "      const channel = await google.colab.kernel.comms.open(id);\n",
              "      // Send a message to notify the kernel that we're ready.\n",
              "      channel.send({})\n",
              "\n",
              "      for await (const message of channel.messages) {\n",
              "        // Send a message to notify the kernel that we're ready.\n",
              "        channel.send({})\n",
              "        if (message.buffers) {\n",
              "          for (const buffer of message.buffers) {\n",
              "            buffers.push(buffer);\n",
              "            downloaded += buffer.byteLength;\n",
              "            progress.value = downloaded;\n",
              "          }\n",
              "        }\n",
              "      }\n",
              "      const blob = new Blob(buffers, {type: 'application/binary'});\n",
              "      const a = document.createElement('a');\n",
              "      a.href = window.URL.createObjectURL(blob);\n",
              "      a.download = filename;\n",
              "      div.appendChild(a);\n",
              "      a.click();\n",
              "      div.remove();\n",
              "    }\n",
              "  "
            ]
          },
          "metadata": {}
        },
        {
          "output_type": "display_data",
          "data": {
            "text/plain": [
              "<IPython.core.display.Javascript object>"
            ],
            "application/javascript": [
              "download(\"download_91855def-0d85-45ef-97bf-3557efc59b76\", \"Clean_component.pdf\", 12639)"
            ]
          },
          "metadata": {}
        },
        {
          "output_type": "display_data",
          "data": {
            "text/plain": [
              "<Figure size 432x288 with 1 Axes>"
            ],
            "image/png": "[encoded data removed]"
          },
          "metadata": {
            "needs_background": "light"
          }
        },
        {
          "output_type": "display_data",
          "data": {
            "text/plain": [
              "<IPython.core.display.Javascript object>"
            ],
            "application/javascript": [
              "\n",
              "    async function download(id, filename, size) {\n",
              "      if (!google.colab.kernel.accessAllowed) {\n",
              "        return;\n",
              "      }\n",
              "      const div = document.createElement('div');\n",
              "      const label = document.createElement('label');\n",
              "      label.textContent = `Downloading \"${filename}\": `;\n",
              "      div.appendChild(label);\n",
              "      const progress = document.createElement('progress');\n",
              "      progress.max = size;\n",
              "      div.appendChild(progress);\n",
              "      document.body.appendChild(div);\n",
              "\n",
              "      const buffers = [];\n",
              "      let downloaded = 0;\n",
              "\n",
              "      const channel = await google.colab.kernel.comms.open(id);\n",
              "      // Send a message to notify the kernel that we're ready.\n",
              "      channel.send({})\n",
              "\n",
              "      for await (const message of channel.messages) {\n",
              "        // Send a message to notify the kernel that we're ready.\n",
              "        channel.send({})\n",
              "        if (message.buffers) {\n",
              "          for (const buffer of message.buffers) {\n",
              "            buffers.push(buffer);\n",
              "            downloaded += buffer.byteLength;\n",
              "            progress.value = downloaded;\n",
              "          }\n",
              "        }\n",
              "      }\n",
              "      const blob = new Blob(buffers, {type: 'application/binary'});\n",
              "      const a = document.createElement('a');\n",
              "      a.href = window.URL.createObjectURL(blob);\n",
              "      a.download = filename;\n",
              "      div.appendChild(a);\n",
              "      a.click();\n",
              "      div.remove();\n",
              "    }\n",
              "  "
            ]
          },
          "metadata": {}
        },
        {
          "output_type": "display_data",
          "data": {
            "text/plain": [
              "<IPython.core.display.Javascript object>"
            ],
            "application/javascript": [
              "download(\"download_d114c3f1-9a40-40a5-8a5b-ad440e45e311\", \"CC_tau_1.pdf\", 12543)"
            ]
          },
          "metadata": {}
        },
        {
          "output_type": "display_data",
          "data": {
            "text/plain": [
              "<Figure size 432x288 with 1 Axes>"
            ],
            "image/png": "[encoded data removed]"
          },
          "metadata": {
            "needs_background": "light"
          }
        }
      ]
    },
    {
      "cell_type": "markdown",
      "source": [
        "**Calculating Positivity**: Positivity is used in this work as a Figure of Merit to determine which input tau that best describes the amount by which the observed pulse is broadened by the ISM. Positivity refers to the amount of over-subtraction or under-subtraction caused by using a tau too small or too large to describe the contribution of the ISM. Over-subtraction will lead to a negative pulse shape on the right side of the pulse where we see the broadening effect, while under-subtraction will result in a residual pulse with values larger than zero to the right side of the profile. \n",
        "\n",
        "We calculate the positivity with with the following equation:\n",
        "\n",
        "\\begin{equation}\n",
        "   f_r = \\frac{m}{N \\sigma_{off}^2} \\Sigma_{i = 1}^N [\\Delta y (t_i) ]^2 U_{\\Delta y}\n",
        "\\end{equation}\n",
        "\n",
        "Where $U_{\\Delta y}$ is found via:\n",
        "\n",
        "\\begin{equation}\n",
        "   U_{\\Delta y} = U [- \\Delta y(t_i) - x \\sigma_{off}]\n",
        "\\end{equation}\n",
        "\n",
        "\n",
        "Here, $x$ is arbitrarily chosen to be $\\frac{3}{2}$ to penalize values of tau larger than the correct value, and $m$, which is only refered to as \"a weight of order unity\" is chosen to be 1. $\\Delta y$ is the residual noise left over a the end of the iterative CLEAN process, $\\theta$ is the root mean squared of the off pulse noise, and $U$ is a Heaviside function. \n",
        "\n"
      ],
      "metadata": {
        "id": "ydXK3dqvteqz"
      }
    },
    {
      "cell_type": "code",
      "source": [
        "'''\n",
        "Calculate Positivity\n",
        "'''\n",
        "\n",
        "def fr(res_noise, rms):\n",
        "    f_r = (1.0 / ((len(res_noise)) * (rms ** 2))) * np.sum(((res_noise) ** 2) * np.heaviside(-res_noise - ((3.0 / 2.0) * rms), 0.0))\n",
        "    return f_r  \n"
      ],
      "metadata": {
        "id": "v8CB6A2do36j"
      },
      "execution_count": null,
      "outputs": []
    },
    {
      "cell_type": "markdown",
      "source": [
        "**Calculating Skewness:** Skewness is the measure of how symmetric a distribution, which in this case is our rebuilt Gaussian intrinsic pulse, is. Again, the use of this figure of merit relies on the assumption that intrinsic pulses are inherently Gaussian, which we know holds true for only a small handful of pulsars at some frequencies. However, as we know that our simulated data uses a Gaussian pulse for the intrinsic pulsar emission, this figure of merit will hold for this simulated, proof of concept work.  \n",
        "\n",
        "Positive skew indicates an imbalance to the right hand side of the distribution, while negative skew indicates an imbalance to the left hand side. In this work, the broadening results in a broadening tail to the right hand side of the peak of the pulse. Thus, we should expect an over-subtraction due to choosing a tau that is too large to describe the broadening effects to result in a rebuilt intrinsic pulse with a negative skew value, under-subtraction due to choosing too small of a tau to result in a positive skew value, and the correct tau resulting in a rebuilt pulse with a skew value of zero. \n",
        "\n",
        "The skewness of the rebuilt pulses is calculated for each test tau using the following equation: \n",
        "\n",
        "\\begin{equation}\n",
        "   \\Gamma = \\frac{t^3}{(t^2)^\\frac{3}{2}}\n",
        "\\end{equation}\n",
        "\n",
        "where $t^n$ is calculated using:\n",
        "\n",
        "\\begin{equation}\n",
        "   t^n = \\frac{\\Sigma_{i = 1}^{n_c} (t_i - \\bar{t})^n C_i}{\\Sigma_{i = 1}^{n_c} C_i}\n",
        "\\end{equation}\n",
        "\n",
        "and $\\bar{t}$ is calculated via:\n",
        "\n",
        "\n",
        "\\begin{equation}\n",
        "   \\bar{t} = \\frac{\\Sigma_{i = 1}^{n_c} t_i C_i}{\\Sigma_{i = 1}^{n_c} C_i}\n",
        "\\end{equation}\n",
        "\n",
        "where $C_i$ and $t_i$ are the amplitudes and the locations of the CLEAN components that make up the recovered intrinsic, respectively. \n"
      ],
      "metadata": {
        "id": "cb4LmQRdCaYq"
      }
    },
    {
      "cell_type": "code",
      "source": [
        "'''\n",
        "Calculate Skewness\n",
        "'''\n",
        "\n",
        "def gamma(amps, times):\n",
        "    sum_t_c = sum(np.multiply(amps, times))\n",
        "    sum_c = sum(amps)\n",
        "\n",
        "    t_bar = sum_t_c / sum_c\n",
        "\n",
        "    t_3 = sum(np.multiply(((times - t_bar) ** 3), amps)) / sum_c\n",
        "    t_2 = sum(np.multiply(((times - t_bar) ** 2), amps)) / sum_c\n",
        "\n",
        "    sym = t_3 / (t_2 ** (3 / 2))\n",
        "    return sym\n",
        "\n"
      ],
      "metadata": {
        "id": "gpg1A-wMo8md"
      },
      "execution_count": null,
      "outputs": []
    },
    {
      "cell_type": "markdown",
      "source": [
        "**Calculate $N_f$**: The number of residual points in the on-pulse window that are consistent with the noise level of the off pulse window is also calculated, with the goal being to maximize this number for the correct tau. This is achieved by counting the number of points that satisfy: \n",
        "\n",
        "\\begin{equation}\n",
        "   | y_i - y_{off}| \\leq 3\\sigma_{off}\n",
        "\\end{equation}\n",
        "\n",
        "where $y_{off}$ is the mean of the off-pulse noise and $\\sigma_{off}$ is the root mean squared of the off-pulse noise. "
      ],
      "metadata": {
        "id": "sKLMbfQiKhQO"
      }
    },
    {
      "cell_type": "code",
      "source": [
        "'''\n",
        "Calculate N_f\n",
        "'''\n",
        "def N_f(res_noise):\n",
        "    index = np.argmax(data_file)\n",
        "    mean_res_array = []\n",
        "\n",
        "    for i in off_pulse:\n",
        "        \n",
        "        mean_res_array.append(data_file[i])\n",
        "    mean_off_pulse = np.mean(mean_res_array)\n",
        "    N_f = 0\n",
        "\n",
        "    for i, j in enumerate(res_noise):\n",
        "        if i not in off_pulse:\n",
        "            if np.abs(j - mean_off_pulse) <= 3 * rms:\n",
        "                N_f = N_f + 1\n",
        "    return N_f\n",
        "\n"
      ],
      "metadata": {
        "id": "QmzQVRIrpCbS"
      },
      "execution_count": null,
      "outputs": []
    },
    {
      "cell_type": "markdown",
      "source": [
        "We now use the CLEAN algorithum, running through each test value of tau, iterativly subracting CLEAN componets off the observed pulse profile until the max value of the pulse profile is smaller than the root mean squared of the off pulse noise or until the number of iterations ellapsed reaches the number of bins in the profile. "
      ],
      "metadata": {
        "id": "bkFk25ryK3nQ"
      }
    },
    {
      "cell_type": "code",
      "source": [
        "'''\n",
        "CLEAN loop\n",
        "'''\n",
        "\n",
        "\n",
        "def CLEAN_Loop(tau_array):\n",
        "\n",
        "    ## arrays to append the calculated values for the figures of merit to\n",
        "    positivity = []\n",
        "    skewness = []\n",
        "    number_of_loops = []\n",
        "    rms_residual_to_off_pulse = []\n",
        "    points_above_noise = []\n",
        "\n",
        "    for tau_1 in tau_array:\n",
        "\n",
        "        #arrays to append the values of the CLEAN Components to\n",
        "        C_all = []\n",
        "        C_index_all = []\n",
        "\n",
        "        #set the pulse profile equal to the simulated observed pulse profile\n",
        "        pulse_profile = data_file\n",
        "\n",
        "        #iteration counter\n",
        "        n = 0\n",
        "        \n",
        "        #find index of the peak of the profile\n",
        "        pulse_profile_max_index = np.argmax(pulse_profile)\n",
        "\n",
        "\n",
        "        #continue the iteration until the max value is less than the rms of the off-pulse noise or \n",
        "        #until the number of iterations equals the number of bins in the profile\n",
        "        while (pulse_profile[pulse_profile_max_index]) > rms or n < len(data_file):\n",
        "\n",
        "                #Create CLEAN Component \n",
        "                conv_two, y_t, g_t_1 = looped_convs(pulse_profile, tau_1, pulse_profile_max_index)\n",
        "\n",
        "                #Record index and amplitude of the CLEAN Component\n",
        "                C_all.append(y_t[pulse_profile_max_index])\n",
        "                C_index_all.append(pulse_profile_max_index)\n",
        "          \n",
        "                #subtract the CLEAN Component from the pulse profile\n",
        "                pulse_profile = np.subtract(pulse_profile, conv_two)\n",
        "\n",
        "                #set the new pulse profile to be the residual noise, the last iteration will assign this to the correct version of the array\n",
        "                res_noise = pulse_profile\n",
        "\n",
        "                #add one to our iteration counter\n",
        "                n = n + 1\n",
        "\n",
        "                #set a new value for the index of the peak of the profile\n",
        "                pulse_profile_max_index = np.argmax(pulse_profile)\n",
        "\n",
        "        ##Uncomment to get rebuilt intrinsic pulse\n",
        "        \n",
        "        uniq_index = np.unique(C_index_all)\n",
        "        values_added = np.zeros((len(time)))\n",
        "        \n",
        "        for index, value in enumerate(C_index_all): \n",
        "            for index_2, value_2 in enumerate(uniq_index):  \n",
        "                if value == value_2:\n",
        "                   values_added[value_2] = values_added[value_2] + C_all[index]\n",
        "                            # print(C_all[index])\n",
        "        restoring = signal.gaussian(len(time), std=1.0 )#/2.35)\n",
        "        if tau_1 == tau:\n",
        "\n",
        "           before_restore = values_added\n",
        "  \n",
        "\n",
        "        final_restored_2 = np.convolve(values_added, restoring, \"same\")\n",
        "        if tau_1 == tau:\n",
        "           keep_restored = final_restored_2\n",
        "      \n",
        "           \n",
        "\n",
        "        number_of_loops.append(n)\n",
        "        rms_res = np.sqrt(np.mean(np.multiply(res_noise, res_noise)))\n",
        "        rms_residual_to_off_pulse.append(rms_res/rms)\n",
        "        points_above_noise .append(N_f(res_noise))\n",
        "        skewness.append(gamma(C_all, C_index_all))  \n",
        "        positivity.append(fr(res_noise, rms))\n",
        "\n",
        "    return positivity, skewness, number_of_loops, rms_residual_to_off_pulse, points_above_noise, keep_restored, before_restore\n",
        "\n",
        "\n",
        "\n"
      ],
      "metadata": {
        "id": "idHmoy3upH1Y"
      },
      "execution_count": null,
      "outputs": []
    },
    {
      "cell_type": "code",
      "source": [
        "'''\n",
        "Run CLEAN for mulitple diffrent test taus\n",
        "'''\n",
        "\n",
        "\n",
        "for i in np.arange(0, 1):\n",
        "    length_of_obs, FWHM, std, tau, SN, n_bins = characteristics()\n",
        "\n",
        "    data_file, time, rms, off_pulse, amp = observed_pulse(tau, std, length_of_obs, n_bins)\n",
        "    \n",
        "    tau_array = np.arange(1.0, 100.0, 1.0)\n",
        "\n",
        "    positivity, skewness, number_of_loops, rms_residual_to_off_pulse, points_above_noise, keep_restored, before_restored = CLEAN_Loop(tau_array)\n",
        "\n",
        "\n",
        "    combined_pos_skew = np.add(positivity, skewness) / 2\n",
        "    \"\"\"\n",
        "    #Replicate Fig 1 form Bhat et. al. 2003\n",
        "    centered_pfb = (1/tau)* signal.exponential(len(time), center=int(len(time)/2), tau=tau, sym=False)\n",
        "    centered_pfb[0:np.argmax(centered_pfb)]  = 0\n",
        "    fig, axs = plt.subplots(4, figsize=(5, 8), sharex=True, sharey=False, gridspec_kw={'wspace': 0, 'hspace': 0.1})\n",
        "    axs[0].plot(time, data_file/max(data_file),  color=\"#003D30\",label=\"Scattered pulse shape\")\n",
        "    axs[0].legend(loc='upper right', fontsize=\"8\")\n",
        "    axs[1].plot(time, centered_pfb/max(centered_pfb), color=\"#003D30\", label=\" Model PBF\")\n",
        "    axs[1].legend(loc='lower right', fontsize=\"8\")  \n",
        "    axs[2].plot(time, before_restored, color=\"#003D30\",label=\"CLEAN Components\")\n",
        "    axs[2].legend(loc='lower right', fontsize=\"8\")    \n",
        "    axs[3].plot(time, keep_restored/max(keep_restored), color=\"#003D30\", label=\"Final restored pulse shape\")\n",
        "    axs[3].legend(loc='lower right', fontsize=\"8\") \n",
        "    axs[3].set_xlabel('Time')\n",
        "    axs[2].set_ylabel('Amplitude')\n",
        "    axs[0].title.set_text('CLEAN Process for Tau = {}, SN = {}'.format(tau, SN))\n",
        "    plt.tight_layout()\n",
        "    plt.savefig(\"copy_fig_3_bhat.pdf\", bbox_inches='tight')\n",
        "    files.download(\"copy_fig_3_bhat.pdf\")\n",
        "  \n",
        "    \"\"\"\n",
        "\n",
        "\n",
        "\n"
      ],
      "metadata": {
        "id": "rRGfchO_pRqd",
        "colab": {
          "base_uri": "https://localhost:8080/",
          "height": 828
        },
        "outputId": "f9dc1c5d-dcdf-4fc3-c84e-3de2075ede8b"
      },
      "execution_count": null,
      "outputs": [
        {
          "output_type": "display_data",
          "data": {
            "text/plain": [
              "<IPython.core.display.Javascript object>"
            ],
            "application/javascript": [
              "\n",
              "    async function download(id, filename, size) {\n",
              "      if (!google.colab.kernel.accessAllowed) {\n",
              "        return;\n",
              "      }\n",
              "      const div = document.createElement('div');\n",
              "      const label = document.createElement('label');\n",
              "      label.textContent = `Downloading \"${filename}\": `;\n",
              "      div.appendChild(label);\n",
              "      const progress = document.createElement('progress');\n",
              "      progress.max = size;\n",
              "      div.appendChild(progress);\n",
              "      document.body.appendChild(div);\n",
              "\n",
              "      const buffers = [];\n",
              "      let downloaded = 0;\n",
              "\n",
              "      const channel = await google.colab.kernel.comms.open(id);\n",
              "      // Send a message to notify the kernel that we're ready.\n",
              "      channel.send({})\n",
              "\n",
              "      for await (const message of channel.messages) {\n",
              "        // Send a message to notify the kernel that we're ready.\n",
              "        channel.send({})\n",
              "        if (message.buffers) {\n",
              "          for (const buffer of message.buffers) {\n",
              "            buffers.push(buffer);\n",
              "            downloaded += buffer.byteLength;\n",
              "            progress.value = downloaded;\n",
              "          }\n",
              "        }\n",
              "      }\n",
              "      const blob = new Blob(buffers, {type: 'application/binary'});\n",
              "      const a = document.createElement('a');\n",
              "      a.href = window.URL.createObjectURL(blob);\n",
              "      a.download = filename;\n",
              "      div.appendChild(a);\n",
              "      a.click();\n",
              "      div.remove();\n",
              "    }\n",
              "  "
            ]
          },
          "metadata": {}
        },
        {
          "output_type": "display_data",
          "data": {
            "text/plain": [
              "<IPython.core.display.Javascript object>"
            ],
            "application/javascript": [
              "download(\"download_53b95b00-7e0a-435c-8e7d-aab4e04ade4f\", \"Res_Noise_compare.pdf\", 15772)"
            ]
          },
          "metadata": {}
        },
        {
          "output_type": "stream",
          "name": "stderr",
          "text": [
            "/usr/local/lib/python3.7/dist-packages/ipykernel_launcher.py:33: UserWarning: This figure includes Axes that are not compatible with tight_layout, so results might be incorrect.\n"
          ]
        },
        {
          "output_type": "display_data",
          "data": {
            "text/plain": [
              "<IPython.core.display.Javascript object>"
            ],
            "application/javascript": [
              "\n",
              "    async function download(id, filename, size) {\n",
              "      if (!google.colab.kernel.accessAllowed) {\n",
              "        return;\n",
              "      }\n",
              "      const div = document.createElement('div');\n",
              "      const label = document.createElement('label');\n",
              "      label.textContent = `Downloading \"${filename}\": `;\n",
              "      div.appendChild(label);\n",
              "      const progress = document.createElement('progress');\n",
              "      progress.max = size;\n",
              "      div.appendChild(progress);\n",
              "      document.body.appendChild(div);\n",
              "\n",
              "      const buffers = [];\n",
              "      let downloaded = 0;\n",
              "\n",
              "      const channel = await google.colab.kernel.comms.open(id);\n",
              "      // Send a message to notify the kernel that we're ready.\n",
              "      channel.send({})\n",
              "\n",
              "      for await (const message of channel.messages) {\n",
              "        // Send a message to notify the kernel that we're ready.\n",
              "        channel.send({})\n",
              "        if (message.buffers) {\n",
              "          for (const buffer of message.buffers) {\n",
              "            buffers.push(buffer);\n",
              "            downloaded += buffer.byteLength;\n",
              "            progress.value = downloaded;\n",
              "          }\n",
              "        }\n",
              "      }\n",
              "      const blob = new Blob(buffers, {type: 'application/binary'});\n",
              "      const a = document.createElement('a');\n",
              "      a.href = window.URL.createObjectURL(blob);\n",
              "      a.download = filename;\n",
              "      div.appendChild(a);\n",
              "      a.click();\n",
              "      div.remove();\n",
              "    }\n",
              "  "
            ]
          },
          "metadata": {}
        },
        {
          "output_type": "display_data",
          "data": {
            "text/plain": [
              "<IPython.core.display.Javascript object>"
            ],
            "application/javascript": [
              "download(\"download_c4e9ca7a-645f-4707-86d0-e9c13ca220b6\", \"copy_fig_3_bhat.pdf\", 18367)"
            ]
          },
          "metadata": {}
        },
        {
          "output_type": "display_data",
          "data": {
            "text/plain": [
              "<Figure size 432x288 with 1 Axes>"
            ],
            "image/png": "[encoded data removed]"
          },
          "metadata": {
            "needs_background": "light"
          }
        },
        {
          "output_type": "display_data",
          "data": {
            "text/plain": [
              "<Figure size 360x576 with 4 Axes>"
            ],
            "image/png": "[encoded data removed]"
          },
          "metadata": {
            "needs_background": "light"
          }
        }
      ]
    },
    {
      "cell_type": "markdown",
      "source": [
        "To automate the process of finding the best tau using the figures of merit, we find the jerk, or the third derviative, of each FOM array. "
      ],
      "metadata": {
        "id": "cY0iLJs8P4wc"
      }
    },
    {
      "cell_type": "code",
      "source": [
        "\"\"\"\n",
        "Finding the jerk of each FOM\n",
        "\"\"\"\n",
        "\n",
        "def jerk(array):\n",
        "\n",
        "        first_diff = np.diff(array)\n",
        "        second_diff = np.diff(first_diff)\n",
        "        third_diff = np.diff(second_diff)\n",
        "\n",
        "        max_index = np.argmax(third_diff)\n",
        "        second_tau = tau_array[max_index]\n",
        "        return second_tau\n",
        "\n",
        "### Uncoment to plot each FOM \n",
        "\n",
        "points_above_noise = np.asarray(points_above_noise )\n",
        "rms_residual_to_off_pulse = np.asarray(rms_residual_to_off_pulse)\n",
        "skewness = np.asarray(skewness)\n",
        "positivity = np.asarray(positivity)\n",
        "combined_pos_skew = np.asarray(combined_pos_skew)\n",
        "number_of_loops = np.asarray(number_of_loops)\n",
        "\n",
        "\n",
        "normalize_positivity = (positivity) / max((positivity))\n",
        "normalize_skewness = (skewness + abs(min(skewness)))/ max((skewness + abs(min(skewness))))\n",
        "normalize_points_above_noise = (points_above_noise)/max(points_above_noise)\n",
        "normalize_rms_residual_to_off_pulse = (rms_residual_to_off_pulse)/max(rms_residual_to_off_pulse)\n",
        "normalize_number_of_loops = (number_of_loops) / max((number_of_loops))\n",
        "normalize_combined_pos_skew = (combined_pos_skew) / max((combined_pos_skew))\n",
        "\n",
        "positivity_jerk = jerk(normalize_positivity)\n",
        "skewness_jerk = jerk(normalize_skewness)\n",
        "#number_of_loops_jerk = jerk(normalize_number_of_loops)\n",
        "rms_residual_to_off_pulse_jerk = jerk(normalize_rms_residual_to_off_pulse)\n",
        "points_above_noise_jerk = jerk(normalize_points_above_noise )\n",
        "combined_pos_skew_jerk = jerk(normalize_combined_pos_skew)\n",
        "\n",
        "\n",
        "\n",
        "\n",
        "location = 0\n",
        "\n",
        "for i,j in enumerate(normalize_number_of_loops):\n",
        "        #print(i,j)\n",
        "        #print(len(normalize_number_of_loops) - 1)\n",
        "        if i != 0 and i != (len(normalize_number_of_loops) - 1):\n",
        "           #print(j, normalize_number_of_loops[i - 1],  normalize_number_of_loops[i + 1] )\n",
        "           #print(i,j)\n",
        "  \n",
        "           if j < normalize_number_of_loops[i - 1] and j < normalize_number_of_loops[i + 1]:\n",
        "                    \n",
        "                    location = i\n",
        "\n",
        "number_of_loops_jerk = location  \n",
        "\n",
        "\n",
        "\n",
        "\n",
        "print(positivity_jerk, skewness_jerk, number_of_loops_jerk, rms_residual_to_off_pulse_jerk, points_above_noise_jerk, \"Correct Tau = \", tau)\n",
        "\n",
        "\n",
        "plt.plot(tau_array, normalize_positivity, \".\", color=\"#003D30\")\n",
        "plt.plot(positivity_jerk, normalize_positivity[int(positivity_jerk) -1], \"^\", color = \"black\", label=\"Found Tau = {}\".format(positivity_jerk))\n",
        "plt.plot(tau, normalize_positivity[int(tau) -1], \"o\", color = \"black\", label = \"Correct Tau = {}\".format(tau))\n",
        "plt.title(\"Positivity Figure of Merit\")\n",
        "plt.ylabel(\"Normalized Positivity Value\")\n",
        "plt.xlabel(\"\\u03C4\")\n",
        "plt.legend()\n",
        "axes = plt.axes([0.7, 0.25, 0.25, 0.25]) #x location, y location, width, height\n",
        "axes.plot(tau_array[int(tau) - 10: int(tau) + 10 ], normalize_positivity[int(tau) - 10: int(tau) + 10 ], \".\", c='#003D30', lw=1, label=\"Zoomed curve\")\n",
        "axes.plot(positivity_jerk, normalize_positivity[int(positivity_jerk) -1], \"^\", color = \"black\")\n",
        "axes.plot(tau, normalize_positivity[int(tau) -1], \"o\", color = \"black\")\n",
        "#axes.legend()\n",
        "plt.tight_layout()\n",
        "plt.savefig(\"pos_fom.pdf\", bbox_inches='tight')\n",
        "files.download(\"pos_fom.pdf\")\n",
        "\n",
        "plt.show()\n",
        "\n",
        "\n",
        "\n",
        "\n",
        "plt.plot(tau_array, normalize_skewness, \".\", color=\"#003D30\")\n",
        "plt.plot(skewness_jerk, normalize_skewness[int(skewness_jerk) -1], \"^\", color = \"black\", label=\"Found Tau = {}\".format(skewness_jerk))\n",
        "plt.plot(tau, normalize_skewness[int(tau) -1], \"o\", color = \"black\", label = \"Correct Tau = {}\".format(tau))\n",
        "plt.title(\"Skewness Figure of Merit\")\n",
        "plt.ylabel(\"Normalized Skewness Value\")\n",
        "plt.xlabel(\"\\u03C4\")\n",
        "plt.legend()\n",
        "axes = plt.axes([0.7, 0.30, 0.25, 0.25]) #x location, y location, width, height\n",
        "axes.plot(tau_array[int(tau) - 10: int(tau) + 10 ], normalize_skewness[int(tau) - 10: int(tau) + 10 ], \".\", c='#003D30', lw=1, label=\"Zoomed curve\")\n",
        "axes.plot(skewness_jerk, normalize_skewness[int(skewness_jerk) -1], \"^\", color = \"black\")\n",
        "axes.plot(tau, normalize_skewness[int(tau) -1], \"o\", color = \"black\")\n",
        "#axes.legend()\n",
        "plt.tight_layout()\n",
        "plt.savefig(\"skew_fom.pdf\", bbox_inches='tight')\n",
        "files.download(\"skew_fom.pdf\")\n",
        "plt.show()\n",
        "\n",
        "#num_of_loops_fom\n",
        "plt.plot(tau_array, normalize_number_of_loops, \".\", color=\"#003D30\")\n",
        "plt.plot(number_of_loops_jerk, normalize_number_of_loops[int(number_of_loops_jerk)], \"^\", color = \"black\", label=\"Found Tau = {}\".format(number_of_loops_jerk))\n",
        "plt.plot(tau, normalize_number_of_loops[int(tau)], \"o\", color = \"black\", label = \"Correct Tau = {}\".format(tau))\n",
        "plt.title(\"Number of Loops Figure of Merit\")\n",
        "plt.ylabel(\"Normalized Number of Loops Value\")\n",
        "plt.xlabel(\"\\u03C4\")\n",
        "plt.legend()\n",
        "axes = plt.axes([0.7, 0.30, 0.25, 0.25]) #x location, y location, width, height\n",
        "axes.plot(tau_array[int(tau) - 10: int(tau) + 10], normalize_number_of_loops[int(tau) - 10: int(tau) +  10], \".\", c='#003D30', lw=1, label=\"Zoomed curve\")\n",
        "axes.plot(number_of_loops_jerk, normalize_number_of_loops[int(number_of_loops_jerk)], \"^\", color = \"black\")\n",
        "axes.plot(tau, normalize_number_of_loops[int(tau)], \"o\", color = \"black\")\n",
        "#axes.legend()\n",
        "plt.tight_layout()\n",
        "plt.savefig(\"example_without_one_over_tau.pdf\", bbox_inches='tight')\n",
        "files.download(\"example_without_one_over_tau.pdf\")\n",
        "plt.show()\n",
        "\n",
        "\n",
        "plt.plot(tau_array, normalize_rms_residual_to_off_pulse, \".\", color=\"#003D30\")\n",
        "plt.plot(rms_residual_to_off_pulse_jerk, normalize_rms_residual_to_off_pulse[int(rms_residual_to_off_pulse_jerk) -1], \"^\", color = \"black\", label=\"Found Tau = {}\".format(rms_residual_to_off_pulse_jerk))\n",
        "plt.plot(tau, normalize_rms_residual_to_off_pulse[int(tau) -1], \"o\", color = \"black\", label = \"Correct Tau = {}\".format(tau))\n",
        "plt.title(\"RMS Residual to off Pulse Figure of Merit\")\n",
        "plt.ylabel(\"Normalized RMS Value\")\n",
        "plt.xlabel(\"\\u03C4\")\n",
        "plt.legend()\n",
        "axes = plt.axes([0.7, 0.30, 0.25, 0.25]) #x location, y location, width, height\n",
        "axes.plot(tau_array[int(tau) - 10: int(tau) + 10], normalize_rms_residual_to_off_pulse[int(tau) - 10: int(tau) +  10], \".\", c='#003D30', lw=1, label=\"Zoomed curve\")\n",
        "axes.plot(rms_residual_to_off_pulse_jerk, normalize_rms_residual_to_off_pulse[int(rms_residual_to_off_pulse_jerk) -1], \"^\", color = \"black\")\n",
        "axes.plot(tau, normalize_rms_residual_to_off_pulse[int(tau) -1], \"o\", color = \"black\")\n",
        "#axes.legend()\n",
        "plt.tight_layout()\n",
        "plt.savefig(\"rms_fom.pdf\", bbox_inches='tight')\n",
        "files.download(\"rms_fom.pdf\")\n",
        "plt.show()\n",
        "\n",
        "plt.plot(tau_array, normalize_points_above_noise, \".\", color=\"#003D30\")\n",
        "plt.plot(points_above_noise_jerk, normalize_points_above_noise[int(points_above_noise_jerk) -1], \"^\", color = \"black\", label=\"Found Tau = {}\".format(points_above_noise_jerk))\n",
        "plt.plot(tau, normalize_points_above_noise[int(tau) -1], \"o\", color = \"black\", label = \"Correct Tau = {}\".format(tau))\n",
        "plt.title(\"Points Above Noise Figure of Merit\")\n",
        "plt.ylabel(\"Normalized Number of Points Value\")\n",
        "plt.xlabel(\"\\u03C4\")\n",
        "plt.legend()\n",
        "axes = plt.axes([0.7, 0.30, 0.25, 0.25]) #x location, y location, width, height\n",
        "axes.plot(tau_array[int(tau) - 10: int(tau) + 10], normalize_points_above_noise[int(tau) - 10: int(tau) +  10], \".\", c='#003D30', lw=1, label=\"Zoomed curve\")\n",
        "axes.plot(points_above_noise_jerk, normalize_points_above_noise[int(points_above_noise_jerk) -1], \"^\", color = \"black\")\n",
        "axes.plot(tau, normalize_points_above_noise[int(tau) -1], \"o\", color = \"black\")\n",
        "#axes.legend()\n",
        "plt.tight_layout()\n",
        "plt.savefig(\"points_fom.pdf\", bbox_inches='tight')\n",
        "files.download(\"points_fom.pdf\")\n",
        "plt.show()\n",
        "\n",
        "plt.plot(tau_array, normalize_combined_pos_skew, \".\", color=\"#003D30\")\n",
        "plt.plot(combined_pos_skew_jerk, normalize_combined_pos_skew[int(combined_pos_skew_jerk) -1], \"^\", color = \"black\", label=\"Found Tau = {}\".format(combined_pos_skew_jerk))\n",
        "plt.plot(tau, normalize_combined_pos_skew[int(tau) -1], \"o\", color = \"black\", label = \"Correct Tau = {}\".format(tau))\n",
        "plt.title(\"Combined Figure of Merit\")\n",
        "plt.ylabel(\"Normalized Combined Value\")\n",
        "plt.xlabel(\"\\u03C4\")\n",
        "plt.legend()\n",
        "axes = plt.axes([0.7, 0.30, 0.25, 0.25]) #x location, y location, width, height\n",
        "axes.plot(tau_array[int(tau) - 10: int(tau) + 10], normalize_combined_pos_skew[int(tau) - 10: int(tau) +  10], \".\", c='#003D30', lw=1, label=\"Zoomed curve\")\n",
        "axes.plot(combined_pos_skew_jerk, normalize_combined_pos_skew[int(combined_pos_skew_jerk) -1], \"^\", color = \"black\")\n",
        "axes.plot(tau, normalize_combined_pos_skew[int(tau) -1], \"o\", color = \"black\")\n",
        "#axes.legend()\n",
        "plt.tight_layout()\n",
        "plt.savefig(\"combo_fom.pdf\", bbox_inches='tight')\n",
        "files.download(\"combo_fom.pdf\")\n",
        "plt.show()\n"
      ],
      "metadata": {
        "id": "6YgOnkQZn8Zw",
        "colab": {
          "base_uri": "https://localhost:8080/",
          "height": 1000
        },
        "outputId": "1057183f-ea0e-4d0c-eda1-2cfb2e166893"
      },
      "execution_count": null,
      "outputs": [
        {
          "output_type": "stream",
          "name": "stdout",
          "text": [
            "20.0 19.0 21 18.0 22.0 Correct Tau =  20.0\n"
          ]
        },
        {
          "output_type": "stream",
          "name": "stderr",
          "text": [
            "/usr/local/lib/python3.7/dist-packages/ipykernel_launcher.py:75: UserWarning: This figure includes Axes that are not compatible with tight_layout, so results might be incorrect.\n"
          ]
        },
        {
          "output_type": "display_data",
          "data": {
            "text/plain": [
              "<IPython.core.display.Javascript object>"
            ],
            "application/javascript": [
              "\n",
              "    async function download(id, filename, size) {\n",
              "      if (!google.colab.kernel.accessAllowed) {\n",
              "        return;\n",
              "      }\n",
              "      const div = document.createElement('div');\n",
              "      const label = document.createElement('label');\n",
              "      label.textContent = `Downloading \"${filename}\": `;\n",
              "      div.appendChild(label);\n",
              "      const progress = document.createElement('progress');\n",
              "      progress.max = size;\n",
              "      div.appendChild(progress);\n",
              "      document.body.appendChild(div);\n",
              "\n",
              "      const buffers = [];\n",
              "      let downloaded = 0;\n",
              "\n",
              "      const channel = await google.colab.kernel.comms.open(id);\n",
              "      // Send a message to notify the kernel that we're ready.\n",
              "      channel.send({})\n",
              "\n",
              "      for await (const message of channel.messages) {\n",
              "        // Send a message to notify the kernel that we're ready.\n",
              "        channel.send({})\n",
              "        if (message.buffers) {\n",
              "          for (const buffer of message.buffers) {\n",
              "            buffers.push(buffer);\n",
              "            downloaded += buffer.byteLength;\n",
              "            progress.value = downloaded;\n",
              "          }\n",
              "        }\n",
              "      }\n",
              "      const blob = new Blob(buffers, {type: 'application/binary'});\n",
              "      const a = document.createElement('a');\n",
              "      a.href = window.URL.createObjectURL(blob);\n",
              "      a.download = filename;\n",
              "      div.appendChild(a);\n",
              "      a.click();\n",
              "      div.remove();\n",
              "    }\n",
              "  "
            ]
          },
          "metadata": {}
        },
        {
          "output_type": "display_data",
          "data": {
            "text/plain": [
              "<IPython.core.display.Javascript object>"
            ],
            "application/javascript": [
              "download(\"download_f4037837-3383-45a2-ad76-7ab1464af5bd\", \"pos_fom.pdf\", 16457)"
            ]
          },
          "metadata": {}
        },
        {
          "output_type": "display_data",
          "data": {
            "text/plain": [
              "<Figure size 432x288 with 2 Axes>"
            ],
            "image/png": "[encoded data removed]"
          },
          "metadata": {
            "needs_background": "light"
          }
        },
        {
          "output_type": "stream",
          "name": "stderr",
          "text": [
            "/usr/local/lib/python3.7/dist-packages/ipykernel_launcher.py:96: UserWarning: This figure includes Axes that are not compatible with tight_layout, so results might be incorrect.\n"
          ]
        },
        {
          "output_type": "display_data",
          "data": {
            "text/plain": [
              "<IPython.core.display.Javascript object>"
            ],
            "application/javascript": [
              "\n",
              "    async function download(id, filename, size) {\n",
              "      if (!google.colab.kernel.accessAllowed) {\n",
              "        return;\n",
              "      }\n",
              "      const div = document.createElement('div');\n",
              "      const label = document.createElement('label');\n",
              "      label.textContent = `Downloading \"${filename}\": `;\n",
              "      div.appendChild(label);\n",
              "      const progress = document.createElement('progress');\n",
              "      progress.max = size;\n",
              "      div.appendChild(progress);\n",
              "      document.body.appendChild(div);\n",
              "\n",
              "      const buffers = [];\n",
              "      let downloaded = 0;\n",
              "\n",
              "      const channel = await google.colab.kernel.comms.open(id);\n",
              "      // Send a message to notify the kernel that we're ready.\n",
              "      channel.send({})\n",
              "\n",
              "      for await (const message of channel.messages) {\n",
              "        // Send a message to notify the kernel that we're ready.\n",
              "        channel.send({})\n",
              "        if (message.buffers) {\n",
              "          for (const buffer of message.buffers) {\n",
              "            buffers.push(buffer);\n",
              "            downloaded += buffer.byteLength;\n",
              "            progress.value = downloaded;\n",
              "          }\n",
              "        }\n",
              "      }\n",
              "      const blob = new Blob(buffers, {type: 'application/binary'});\n",
              "      const a = document.createElement('a');\n",
              "      a.href = window.URL.createObjectURL(blob);\n",
              "      a.download = filename;\n",
              "      div.appendChild(a);\n",
              "      a.click();\n",
              "      div.remove();\n",
              "    }\n",
              "  "
            ]
          },
          "metadata": {}
        },
        {
          "output_type": "display_data",
          "data": {
            "text/plain": [
              "<IPython.core.display.Javascript object>"
            ],
            "application/javascript": [
              "download(\"download_34305cc8-2c88-4b68-b393-34cfe869eb53\", \"skew_fom.pdf\", 17126)"
            ]
          },
          "metadata": {}
        },
        {
          "output_type": "display_data",
          "data": {
            "text/plain": [
              "<Figure size 432x288 with 2 Axes>"
            ],
            "image/png": "[encoded data removed]"
          },
          "metadata": {
            "needs_background": "light"
          }
        },
        {
          "output_type": "stream",
          "name": "stderr",
          "text": [
            "/usr/local/lib/python3.7/dist-packages/ipykernel_launcher.py:114: UserWarning: This figure includes Axes that are not compatible with tight_layout, so results might be incorrect.\n"
          ]
        },
        {
          "output_type": "display_data",
          "data": {
            "text/plain": [
              "<IPython.core.display.Javascript object>"
            ],
            "application/javascript": [
              "\n",
              "    async function download(id, filename, size) {\n",
              "      if (!google.colab.kernel.accessAllowed) {\n",
              "        return;\n",
              "      }\n",
              "      const div = document.createElement('div');\n",
              "      const label = document.createElement('label');\n",
              "      label.textContent = `Downloading \"${filename}\": `;\n",
              "      div.appendChild(label);\n",
              "      const progress = document.createElement('progress');\n",
              "      progress.max = size;\n",
              "      div.appendChild(progress);\n",
              "      document.body.appendChild(div);\n",
              "\n",
              "      const buffers = [];\n",
              "      let downloaded = 0;\n",
              "\n",
              "      const channel = await google.colab.kernel.comms.open(id);\n",
              "      // Send a message to notify the kernel that we're ready.\n",
              "      channel.send({})\n",
              "\n",
              "      for await (const message of channel.messages) {\n",
              "        // Send a message to notify the kernel that we're ready.\n",
              "        channel.send({})\n",
              "        if (message.buffers) {\n",
              "          for (const buffer of message.buffers) {\n",
              "            buffers.push(buffer);\n",
              "            downloaded += buffer.byteLength;\n",
              "            progress.value = downloaded;\n",
              "          }\n",
              "        }\n",
              "      }\n",
              "      const blob = new Blob(buffers, {type: 'application/binary'});\n",
              "      const a = document.createElement('a');\n",
              "      a.href = window.URL.createObjectURL(blob);\n",
              "      a.download = filename;\n",
              "      div.appendChild(a);\n",
              "      a.click();\n",
              "      div.remove();\n",
              "    }\n",
              "  "
            ]
          },
          "metadata": {}
        },
        {
          "output_type": "display_data",
          "data": {
            "text/plain": [
              "<IPython.core.display.Javascript object>"
            ],
            "application/javascript": [
              "download(\"download_e1e0c268-d384-4876-a42e-37a0852a9233\", \"example_without_one_over_tau.pdf\", 16893)"
            ]
          },
          "metadata": {}
        },
        {
          "output_type": "display_data",
          "data": {
            "text/plain": [
              "<Figure size 432x288 with 2 Axes>"
            ],
            "image/png": "[encoded data removed]"
          },
          "metadata": {
            "needs_background": "light"
          }
        },
        {
          "output_type": "stream",
          "name": "stderr",
          "text": [
            "/usr/local/lib/python3.7/dist-packages/ipykernel_launcher.py:132: UserWarning: This figure includes Axes that are not compatible with tight_layout, so results might be incorrect.\n"
          ]
        },
        {
          "output_type": "display_data",
          "data": {
            "text/plain": [
              "<IPython.core.display.Javascript object>"
            ],
            "application/javascript": [
              "\n",
              "    async function download(id, filename, size) {\n",
              "      if (!google.colab.kernel.accessAllowed) {\n",
              "        return;\n",
              "      }\n",
              "      const div = document.createElement('div');\n",
              "      const label = document.createElement('label');\n",
              "      label.textContent = `Downloading \"${filename}\": `;\n",
              "      div.appendChild(label);\n",
              "      const progress = document.createElement('progress');\n",
              "      progress.max = size;\n",
              "      div.appendChild(progress);\n",
              "      document.body.appendChild(div);\n",
              "\n",
              "      const buffers = [];\n",
              "      let downloaded = 0;\n",
              "\n",
              "      const channel = await google.colab.kernel.comms.open(id);\n",
              "      // Send a message to notify the kernel that we're ready.\n",
              "      channel.send({})\n",
              "\n",
              "      for await (const message of channel.messages) {\n",
              "        // Send a message to notify the kernel that we're ready.\n",
              "        channel.send({})\n",
              "        if (message.buffers) {\n",
              "          for (const buffer of message.buffers) {\n",
              "            buffers.push(buffer);\n",
              "            downloaded += buffer.byteLength;\n",
              "            progress.value = downloaded;\n",
              "          }\n",
              "        }\n",
              "      }\n",
              "      const blob = new Blob(buffers, {type: 'application/binary'});\n",
              "      const a = document.createElement('a');\n",
              "      a.href = window.URL.createObjectURL(blob);\n",
              "      a.download = filename;\n",
              "      div.appendChild(a);\n",
              "      a.click();\n",
              "      div.remove();\n",
              "    }\n",
              "  "
            ]
          },
          "metadata": {}
        },
        {
          "output_type": "display_data",
          "data": {
            "text/plain": [
              "<IPython.core.display.Javascript object>"
            ],
            "application/javascript": [
              "download(\"download_dd0d537c-6892-46b1-b2d8-022fd21cd389\", \"rms_fom.pdf\", 16575)"
            ]
          },
          "metadata": {}
        },
        {
          "output_type": "display_data",
          "data": {
            "text/plain": [
              "<Figure size 432x288 with 2 Axes>"
            ],
            "image/png": "[encoded data removed]"
          },
          "metadata": {
            "needs_background": "light"
          }
        },
        {
          "output_type": "stream",
          "name": "stderr",
          "text": [
            "/usr/local/lib/python3.7/dist-packages/ipykernel_launcher.py:149: UserWarning: This figure includes Axes that are not compatible with tight_layout, so results might be incorrect.\n"
          ]
        },
        {
          "output_type": "display_data",
          "data": {
            "text/plain": [
              "<IPython.core.display.Javascript object>"
            ],
            "application/javascript": [
              "\n",
              "    async function download(id, filename, size) {\n",
              "      if (!google.colab.kernel.accessAllowed) {\n",
              "        return;\n",
              "      }\n",
              "      const div = document.createElement('div');\n",
              "      const label = document.createElement('label');\n",
              "      label.textContent = `Downloading \"${filename}\": `;\n",
              "      div.appendChild(label);\n",
              "      const progress = document.createElement('progress');\n",
              "      progress.max = size;\n",
              "      div.appendChild(progress);\n",
              "      document.body.appendChild(div);\n",
              "\n",
              "      const buffers = [];\n",
              "      let downloaded = 0;\n",
              "\n",
              "      const channel = await google.colab.kernel.comms.open(id);\n",
              "      // Send a message to notify the kernel that we're ready.\n",
              "      channel.send({})\n",
              "\n",
              "      for await (const message of channel.messages) {\n",
              "        // Send a message to notify the kernel that we're ready.\n",
              "        channel.send({})\n",
              "        if (message.buffers) {\n",
              "          for (const buffer of message.buffers) {\n",
              "            buffers.push(buffer);\n",
              "            downloaded += buffer.byteLength;\n",
              "            progress.value = downloaded;\n",
              "          }\n",
              "        }\n",
              "      }\n",
              "      const blob = new Blob(buffers, {type: 'application/binary'});\n",
              "      const a = document.createElement('a');\n",
              "      a.href = window.URL.createObjectURL(blob);\n",
              "      a.download = filename;\n",
              "      div.appendChild(a);\n",
              "      a.click();\n",
              "      div.remove();\n",
              "    }\n",
              "  "
            ]
          },
          "metadata": {}
        },
        {
          "output_type": "display_data",
          "data": {
            "text/plain": [
              "<IPython.core.display.Javascript object>"
            ],
            "application/javascript": [
              "download(\"download_201cbd15-218e-4b07-b9cc-1453bcbd6eb9\", \"points_fom.pdf\", 16654)"
            ]
          },
          "metadata": {}
        },
        {
          "output_type": "display_data",
          "data": {
            "text/plain": [
              "<Figure size 432x288 with 2 Axes>"
            ],
            "image/png": "[encoded data removed]"
          },
          "metadata": {
            "needs_background": "light"
          }
        },
        {
          "output_type": "stream",
          "name": "stderr",
          "text": [
            "/usr/local/lib/python3.7/dist-packages/ipykernel_launcher.py:166: UserWarning: This figure includes Axes that are not compatible with tight_layout, so results might be incorrect.\n"
          ]
        },
        {
          "output_type": "display_data",
          "data": {
            "text/plain": [
              "<IPython.core.display.Javascript object>"
            ],
            "application/javascript": [
              "\n",
              "    async function download(id, filename, size) {\n",
              "      if (!google.colab.kernel.accessAllowed) {\n",
              "        return;\n",
              "      }\n",
              "      const div = document.createElement('div');\n",
              "      const label = document.createElement('label');\n",
              "      label.textContent = `Downloading \"${filename}\": `;\n",
              "      div.appendChild(label);\n",
              "      const progress = document.createElement('progress');\n",
              "      progress.max = size;\n",
              "      div.appendChild(progress);\n",
              "      document.body.appendChild(div);\n",
              "\n",
              "      const buffers = [];\n",
              "      let downloaded = 0;\n",
              "\n",
              "      const channel = await google.colab.kernel.comms.open(id);\n",
              "      // Send a message to notify the kernel that we're ready.\n",
              "      channel.send({})\n",
              "\n",
              "      for await (const message of channel.messages) {\n",
              "        // Send a message to notify the kernel that we're ready.\n",
              "        channel.send({})\n",
              "        if (message.buffers) {\n",
              "          for (const buffer of message.buffers) {\n",
              "            buffers.push(buffer);\n",
              "            downloaded += buffer.byteLength;\n",
              "            progress.value = downloaded;\n",
              "          }\n",
              "        }\n",
              "      }\n",
              "      const blob = new Blob(buffers, {type: 'application/binary'});\n",
              "      const a = document.createElement('a');\n",
              "      a.href = window.URL.createObjectURL(blob);\n",
              "      a.download = filename;\n",
              "      div.appendChild(a);\n",
              "      a.click();\n",
              "      div.remove();\n",
              "    }\n",
              "  "
            ]
          },
          "metadata": {}
        },
        {
          "output_type": "display_data",
          "data": {
            "text/plain": [
              "<IPython.core.display.Javascript object>"
            ],
            "application/javascript": [
              "download(\"download_9dc0f194-8897-4411-a4ce-e10641b9c880\", \"combo_fom.pdf\", 16184)"
            ]
          },
          "metadata": {}
        },
        {
          "output_type": "display_data",
          "data": {
            "text/plain": [
              "<Figure size 432x288 with 2 Axes>"
            ],
            "image/png": "[encoded data removed]"
          },
          "metadata": {
            "needs_background": "light"
          }
        }
      ]
    },
    {
      "cell_type": "code",
      "source": [
        "points_above_noise = np.asarray(points_above_noise )\n",
        "rms_residual_to_off_pulse = np.asarray(rms_residual_to_off_pulse)\n",
        "skewness = np.asarray(skewness)\n",
        "positivity = np.asarray(positivity)\n",
        "combined_pos_skew = np.asarray(combined_pos_skew)\n",
        "number_of_loops = np.asarray(number_of_loops)\n",
        "\n",
        "positivity_jerk = jerk(positivity)\n",
        "skewness_jerk = jerk(skewness)\n",
        "#number_of_loops_jerk = jerk(number_of_loops)\n",
        "rms_residual_to_off_pulse_jerk = jerk(rms_residual_to_off_pulse)\n",
        "points_above_noise_jerk = jerk(points_above_noise )\n",
        "combined_pos_skew_jerk = jerk(combined_pos_skew)\n",
        "\n",
        "normalize_positivity = (positivity) / max((positivity))\n",
        "normalize_skewness = (skewness + abs(min(skewness)))/ max((skewness + abs(min(skewness))))\n",
        "normalize_points_above_noise = (points_above_noise)/max(points_above_noise)\n",
        "normalize_rms_residual_to_off_pulse = (rms_residual_to_off_pulse)/max(rms_residual_to_off_pulse)\n",
        "normalize_number_of_loops = (number_of_loops) / max((number_of_loops))\n",
        "normalize_combined_pos_skew = (combined_pos_skew) / max((combined_pos_skew))\n",
        "\n",
        "\n",
        "location = 0\n",
        "\n",
        "for i,j in enumerate(normalize_number_of_loops[1:len(normalize_number_of_loops) - 1]):\n",
        "\n",
        "        if j < normalize_number_of_loops[i - 1] and j < normalize_number_of_loops[i - 1]:\n",
        "             print(j)\n",
        "             if i > location:\n",
        "                    location = i\n",
        "\n",
        "number_of_loops_jerk = location  \n",
        "\n",
        "\n",
        "print(positivity_jerk, skewness_jerk, number_of_loops_jerk, rms_residual_to_off_pulse_jerk, points_above_noise_jerk, combined_pos_skew_jerk, \"Correct Tau = \", tau)\n",
        "\n",
        "fig, axs = plt.subplots(6, figsize=(7, 8), sharex=True, sharey=False, gridspec_kw={'wspace': 0, 'hspace': 0.1})\n",
        "        # axs[0].set_title(\"Figures of Merit for SN = 1000.0\")\n",
        "axs[0].plot(tau_array,normalize_points_above_noise, \".\", color=\"#003D30\",label=\"N_f/N_tot\")\n",
        "axs[0].plot(points_above_noise_jerk, normalize_points_above_noise[int(points_above_noise_jerk)-1], \"*\", label=\"Tau = {}\".format(points_above_noise_jerk))\n",
        "axs[0].legend(loc='upper right', fontsize=\"8\")\n",
        "#axs[0].axvline(x=tau, ymin=-1.2, ymax=1, c=\"#009175\", linewidth=1.5, zorder=0, clip_on=False)\n",
        "axs[1].plot(tau_array, normalize_rms_residual_to_off_pulse, \".\", color=\"#003D30\", label=\"\\u03C3_offc/\\u03C3_off\")\n",
        "axs[1].plot(rms_residual_to_off_pulse_jerk, normalize_rms_residual_to_off_pulse[int(rms_residual_to_off_pulse_jerk)- 1], \"*\", label=\"Tau = {}\".format(rms_residual_to_off_pulse_jerk))\n",
        "axs[1].legend(loc='lower right', fontsize=\"8\")\n",
        "axs[2].plot(tau_array, normalize_skewness , \".\", color=\"#003D30\", label=\"\\u0393\")\n",
        "axs[2].plot(skewness_jerk, normalize_skewness[int(skewness_jerk) -1], \"*\", label=\"Tau = {}\".format(skewness_jerk))\n",
        "axs[2].legend(loc='upper right', fontsize=\"8\")\n",
        "axs[3].plot(tau_array, normalize_positivity, \".\", color=\"#003D30\", label=\"f_r\")\n",
        "axs[3].plot(positivity_jerk, normalize_positivity[int(positivity_jerk) -1], \"*\", label=\"Tau = {}\".format(positivity_jerk))\n",
        "axs[3].legend(loc='lower right', fontsize=\"8\")\n",
        "axs[4].plot(tau_array, normalize_combined_pos_skew, \".\", color=\"#003D30\", label=\"f_c\")\n",
        "axs[4].plot(combined_pos_skew_jerk, normalize_combined_pos_skew[int(combined_pos_skew_jerk) - 1], \"*\", label=\"Tau = {}\".format(combined_pos_skew_jerk))\n",
        "axs[4].legend(loc='lower right', fontsize=\"8\")\n",
        "axs[5].plot(tau_array, normalize_number_of_loops, \".\", color=\"#003D30\", label=\"N_loops\")\n",
        "axs[5].plot(number_of_loops_jerk, normalize_number_of_loops[int(number_of_loops_jerk)], \"*\", label=\"Tau = {}\".format(number_of_loops_jerk))\n",
        "axs[5].legend(loc='lower right', fontsize=\"8\")\n",
        "#axs[0].axvline(x=tau, ymin=-1.2, ymax=1, c=\"#009175\", linewidth=1.5, zorder=0, clip_on=False)\n",
        "#axs[1].axvline(x=tau, ymin=0, ymax=1.2, c=\"#009175\", linewidth=1.5, zorder=0, clip_on=False)\n",
        "#axs[2].axvline(x=tau, ymin=0, ymax=1.2, c=\"#009175\", linewidth=1.5, zorder=0, clip_on=False)\n",
        "#axs[3].axvline(x=tau, ymin=0, ymax=1.2, c=\"#009175\", linewidth=1.5, zorder=0, clip_on=False)\n",
        "#axs[4].axvline(x=tau, ymin=0, ymax=1.2, c=\"#009175\", linewidth=1.5, zorder=0, clip_on=False)\n",
        "#axs[5].axvline(x=tau, ymin=0, ymax=1.2, c=\"#009175\", linewidth=1.5, zorder=0, clip_on=False)\n",
        "axs[0].title.set_text('FOM for PSR')\n",
        "plt.tight_layout()\n",
        "plt.savefig(\"all_FOM.pdf\", bbox_inches='tight')\n",
        "files.download(\"all_FOM.pdf\")\n",
        "plt.show()\n",
        "\n",
        "plt.show()\n"
      ],
      "metadata": {
        "id": "JWNk265UVYJu",
        "colab": {
          "base_uri": "https://localhost:8080/",
          "height": 762
        },
        "outputId": "0e190ace-7109-4a05-d195-1b973553235b"
      },
      "execution_count": null,
      "outputs": [
        {
          "output_type": "stream",
          "name": "stdout",
          "text": [
            "0.2875338142470694\n",
            "0.3598963029756537\n",
            "0.3586564472497746\n",
            "0.3556131650135257\n",
            "0.35099188458070335\n",
            "0.3431018935978359\n",
            "0.3307033363390442\n",
            "0.31052750225428316\n",
            "0.28043282236248873\n",
            "0.23816501352569883\n",
            "0.23872858431018937\n",
            "0.2377141568981064\n",
            "20.0 19.0 20 18.0 22.0 19.0 Correct Tau =  20.0\n"
          ]
        },
        {
          "output_type": "stream",
          "name": "stderr",
          "text": [
            "/usr/local/lib/python3.7/dist-packages/ipykernel_launcher.py:65: UserWarning: This figure includes Axes that are not compatible with tight_layout, so results might be incorrect.\n"
          ]
        },
        {
          "output_type": "display_data",
          "data": {
            "text/plain": [
              "<IPython.core.display.Javascript object>"
            ],
            "application/javascript": [
              "\n",
              "    async function download(id, filename, size) {\n",
              "      if (!google.colab.kernel.accessAllowed) {\n",
              "        return;\n",
              "      }\n",
              "      const div = document.createElement('div');\n",
              "      const label = document.createElement('label');\n",
              "      label.textContent = `Downloading \"${filename}\": `;\n",
              "      div.appendChild(label);\n",
              "      const progress = document.createElement('progress');\n",
              "      progress.max = size;\n",
              "      div.appendChild(progress);\n",
              "      document.body.appendChild(div);\n",
              "\n",
              "      const buffers = [];\n",
              "      let downloaded = 0;\n",
              "\n",
              "      const channel = await google.colab.kernel.comms.open(id);\n",
              "      // Send a message to notify the kernel that we're ready.\n",
              "      channel.send({})\n",
              "\n",
              "      for await (const message of channel.messages) {\n",
              "        // Send a message to notify the kernel that we're ready.\n",
              "        channel.send({})\n",
              "        if (message.buffers) {\n",
              "          for (const buffer of message.buffers) {\n",
              "            buffers.push(buffer);\n",
              "            downloaded += buffer.byteLength;\n",
              "            progress.value = downloaded;\n",
              "          }\n",
              "        }\n",
              "      }\n",
              "      const blob = new Blob(buffers, {type: 'application/binary'});\n",
              "      const a = document.createElement('a');\n",
              "      a.href = window.URL.createObjectURL(blob);\n",
              "      a.download = filename;\n",
              "      div.appendChild(a);\n",
              "      a.click();\n",
              "      div.remove();\n",
              "    }\n",
              "  "
            ]
          },
          "metadata": {}
        },
        {
          "output_type": "display_data",
          "data": {
            "text/plain": [
              "<IPython.core.display.Javascript object>"
            ],
            "application/javascript": [
              "download(\"download_2f038587-158f-429e-871c-18eb9bd2da61\", \"all_FOM.pdf\", 21906)"
            ]
          },
          "metadata": {}
        },
        {
          "output_type": "display_data",
          "data": {
            "text/plain": [
              "<Figure size 504x576 with 6 Axes>"
            ],
            "image/png": "[encoded data removed]"
          },
          "metadata": {
            "needs_background": "light"
          }
        }
      ]
    }
  ]
}